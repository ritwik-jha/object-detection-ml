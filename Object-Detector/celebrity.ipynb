{
 "metadata": {
  "language_info": {
   "codemirror_mode": {
    "name": "ipython",
    "version": 3
   },
   "file_extension": ".py",
   "mimetype": "text/x-python",
   "name": "python",
   "nbconvert_exporter": "python",
   "pygments_lexer": "ipython3",
   "version": "3.8.5-final"
  },
  "orig_nbformat": 2,
  "kernelspec": {
   "name": "python385jvsc74a57bd0f1a8a4251cf780472f30c5a72581de792d0d991bba438fb84c5b80544b1ca84e",
   "display_name": "Python 3.8.5 64-bit ('DL': conda)"
  }
 },
 "nbformat": 4,
 "nbformat_minor": 2,
 "cells": [
  {
   "cell_type": "code",
   "execution_count": 1,
   "metadata": {},
   "outputs": [],
   "source": [
    "response = {\n",
    "    \"CelebrityFaces\": [\n",
    "        {\n",
    "            \"Urls\": [\n",
    "                \"www.imdb.com/name/nm1757263\"\n",
    "            ],\n",
    "            \"Name\": \"Jeff Bezos\",\n",
    "            \"Id\": \"1SK7cR8M\",\n",
    "            \"Face\": {\n",
    "                \"BoundingBox\": {\n",
    "                    \"Width\": 0.4337500035762787,\n",
    "                    \"Height\": 0.651358962059021,\n",
    "                    \"Left\": 0.28312501311302185,\n",
    "                    \"Top\": 0.12277413159608841\n",
    "                },\n",
    "                \"Confidence\": 99.92601013183594,\n",
    "                \"Landmarks\": [\n",
    "                    {\n",
    "                        \"Type\": \"eyeLeft\",\n",
    "                        \"X\": 0.432369202375412,\n",
    "                        \"Y\": 0.4037088453769684\n",
    "                    },\n",
    "                    {\n",
    "                        \"Type\": \"eyeRight\",\n",
    "                        \"X\": 0.5707516670227051,\n",
    "                        \"Y\": 0.39095449447631836\n",
    "                    },\n",
    "                    {\n",
    "                        \"Type\": \"nose\",\n",
    "                        \"X\": 0.5109302997589111,\n",
    "                        \"Y\": 0.5202629566192627\n",
    "                    },\n",
    "                    {\n",
    "                        \"Type\": \"mouthLeft\",\n",
    "                        \"X\": 0.4443693459033966,\n",
    "                        \"Y\": 0.6035046577453613\n",
    "                    },\n",
    "                    {\n",
    "                        \"Type\": \"mouthRight\",\n",
    "                        \"X\": 0.5681939125061035,\n",
    "                        \"Y\": 0.5998679399490356\n",
    "                    }\n",
    "                ],\n",
    "                \"Pose\": {\n",
    "                    \"Roll\": -4.307190418243408,\n",
    "                    \"Yaw\": 5.115738391876221,\n",
    "                    \"Pitch\": -6.360623359680176\n",
    "                },\n",
    "                \"Quality\": {\n",
    "                    \"Brightness\": 88.5540542602539,\n",
    "                    \"Sharpness\": 97.46806335449219\n",
    "                }\n",
    "            },\n",
    "            \"MatchConfidence\": 100\n",
    "        }\n",
    "    ],\n",
    "    \"UnrecognizedFaces\": []\n",
    "}"
   ]
  },
  {
   "cell_type": "code",
   "execution_count": 5,
   "metadata": {},
   "outputs": [
    {
     "output_type": "execute_result",
     "data": {
      "text/plain": [
       "{'BoundingBox': {'Width': 0.4337500035762787,\n",
       "  'Height': 0.651358962059021,\n",
       "  'Left': 0.28312501311302185,\n",
       "  'Top': 0.12277413159608841},\n",
       " 'Confidence': 99.92601013183594,\n",
       " 'Landmarks': [{'Type': 'eyeLeft',\n",
       "   'X': 0.432369202375412,\n",
       "   'Y': 0.4037088453769684},\n",
       "  {'Type': 'eyeRight', 'X': 0.5707516670227051, 'Y': 0.39095449447631836},\n",
       "  {'Type': 'nose', 'X': 0.5109302997589111, 'Y': 0.5202629566192627},\n",
       "  {'Type': 'mouthLeft', 'X': 0.4443693459033966, 'Y': 0.6035046577453613},\n",
       "  {'Type': 'mouthRight', 'X': 0.5681939125061035, 'Y': 0.5998679399490356}],\n",
       " 'Pose': {'Roll': -4.307190418243408,\n",
       "  'Yaw': 5.115738391876221,\n",
       "  'Pitch': -6.360623359680176},\n",
       " 'Quality': {'Brightness': 88.5540542602539, 'Sharpness': 97.46806335449219}}"
      ]
     },
     "metadata": {},
     "execution_count": 5
    }
   ],
   "source": [
    "response['CelebrityFaces'][0]['Face'][]"
   ]
  },
  {
   "cell_type": "code",
   "execution_count": null,
   "metadata": {},
   "outputs": [],
   "source": []
  }
 ]
}